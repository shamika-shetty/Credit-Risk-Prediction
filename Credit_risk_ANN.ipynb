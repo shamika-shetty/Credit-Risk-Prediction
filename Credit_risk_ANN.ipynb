{
  "nbformat": 4,
  "nbformat_minor": 0,
  "metadata": {
    "colab": {
      "provenance": []
    },
    "kernelspec": {
      "name": "python3",
      "display_name": "Python 3"
    },
    "language_info": {
      "name": "python"
    }
  },
  "cells": [
    {
      "cell_type": "markdown",
      "source": [
        "**Credit card risk prediction is done using ANN**"
      ],
      "metadata": {
        "id": "c2JmLB0hYK1T"
      }
    },
    {
      "cell_type": "markdown",
      "source": [
        "**Import required libraries**"
      ],
      "metadata": {
        "id": "6yNaytl8YD36"
      }
    },
    {
      "cell_type": "code",
      "source": [
        "import pandas as pd\n",
        "import numpy as np\n",
        "import matplotlib.pyplot as plt\n",
        "from tensorflow.keras.models import Sequential\n",
        "from tensorflow.keras.models import Model\n",
        "from keras.layers import Dense, Dropout\n",
        "from sklearn.preprocessing import StandardScaler\n",
        "from sklearn.model_selection import train_test_split\n",
        "from sklearn.neural_network import MLPClassifier\n",
        "from sklearn.metrics import accuracy_score,confusion_matrix,classification_report,precision_score,recall_score\n",
        "import tensorflow as tf\n",
        "import keras"
      ],
      "metadata": {
        "id": "pVqrE2u4FH63"
      },
      "execution_count": null,
      "outputs": []
    },
    {
      "cell_type": "code",
      "source": [
        "df= pd.read_csv(\"credit.csv\")\n",
        "df.drop(\"Unnamed: 0\",axis=1,inplace=True)"
      ],
      "metadata": {
        "id": "Q07jbZOEFV1W"
      },
      "execution_count": null,
      "outputs": []
    },
    {
      "cell_type": "code",
      "source": [
        "df.head()"
      ],
      "metadata": {
        "colab": {
          "base_uri": "https://localhost:8080/",
          "height": 299
        },
        "id": "N0ZeJuwmFwCT",
        "outputId": "2028303e-ffe2-4e8f-de08-7aadf7767d9e"
      },
      "execution_count": null,
      "outputs": [
        {
          "output_type": "execute_result",
          "data": {
            "text/plain": [
              "   status  duration  credit_history  purpose  amount  savings  \\\n",
              "0     1.0      18.0             4.0      2.0  1049.0      1.0   \n",
              "1     1.0       9.0             4.0      0.0  2799.0      1.0   \n",
              "2     2.0      12.0             2.0      9.0   841.0      2.0   \n",
              "3     1.0      12.0             4.0      0.0  2122.0      1.0   \n",
              "4     1.0      12.0             4.0      0.0  2171.0      1.0   \n",
              "\n",
              "   employment_duration  installment_rate  personal_status_sex  other_debtors  \\\n",
              "0                  2.0               4.0                  2.0            1.0   \n",
              "1                  3.0               2.0                  3.0            1.0   \n",
              "2                  4.0               2.0                  2.0            1.0   \n",
              "3                  3.0               3.0                  3.0            1.0   \n",
              "4                  3.0               4.0                  3.0            1.0   \n",
              "\n",
              "   ...  property   age  other_installment_plans  housing  number_credits  job  \\\n",
              "0  ...       2.0  21.0                      3.0      1.0             1.0  3.0   \n",
              "1  ...       1.0  36.0                      3.0      1.0             2.0  3.0   \n",
              "2  ...       1.0  23.0                      3.0      1.0             1.0  2.0   \n",
              "3  ...       1.0  39.0                      3.0      1.0             2.0  2.0   \n",
              "4  ...       2.0  38.0                      1.0      2.0             2.0  2.0   \n",
              "\n",
              "   people_liable  telephone  foreign_worker  credit_risk  \n",
              "0            2.0        1.0             2.0          1.0  \n",
              "1            1.0        1.0             2.0          1.0  \n",
              "2            2.0        1.0             2.0          1.0  \n",
              "3            1.0        1.0             1.0          1.0  \n",
              "4            2.0        1.0             1.0          1.0  \n",
              "\n",
              "[5 rows x 21 columns]"
            ],
            "text/html": [
              "\n",
              "  <div id=\"df-85fdf333-4aa2-4c2e-88a1-d767ddcb2223\">\n",
              "    <div class=\"colab-df-container\">\n",
              "      <div>\n",
              "<style scoped>\n",
              "    .dataframe tbody tr th:only-of-type {\n",
              "        vertical-align: middle;\n",
              "    }\n",
              "\n",
              "    .dataframe tbody tr th {\n",
              "        vertical-align: top;\n",
              "    }\n",
              "\n",
              "    .dataframe thead th {\n",
              "        text-align: right;\n",
              "    }\n",
              "</style>\n",
              "<table border=\"1\" class=\"dataframe\">\n",
              "  <thead>\n",
              "    <tr style=\"text-align: right;\">\n",
              "      <th></th>\n",
              "      <th>status</th>\n",
              "      <th>duration</th>\n",
              "      <th>credit_history</th>\n",
              "      <th>purpose</th>\n",
              "      <th>amount</th>\n",
              "      <th>savings</th>\n",
              "      <th>employment_duration</th>\n",
              "      <th>installment_rate</th>\n",
              "      <th>personal_status_sex</th>\n",
              "      <th>other_debtors</th>\n",
              "      <th>...</th>\n",
              "      <th>property</th>\n",
              "      <th>age</th>\n",
              "      <th>other_installment_plans</th>\n",
              "      <th>housing</th>\n",
              "      <th>number_credits</th>\n",
              "      <th>job</th>\n",
              "      <th>people_liable</th>\n",
              "      <th>telephone</th>\n",
              "      <th>foreign_worker</th>\n",
              "      <th>credit_risk</th>\n",
              "    </tr>\n",
              "  </thead>\n",
              "  <tbody>\n",
              "    <tr>\n",
              "      <th>0</th>\n",
              "      <td>1.0</td>\n",
              "      <td>18.0</td>\n",
              "      <td>4.0</td>\n",
              "      <td>2.0</td>\n",
              "      <td>1049.0</td>\n",
              "      <td>1.0</td>\n",
              "      <td>2.0</td>\n",
              "      <td>4.0</td>\n",
              "      <td>2.0</td>\n",
              "      <td>1.0</td>\n",
              "      <td>...</td>\n",
              "      <td>2.0</td>\n",
              "      <td>21.0</td>\n",
              "      <td>3.0</td>\n",
              "      <td>1.0</td>\n",
              "      <td>1.0</td>\n",
              "      <td>3.0</td>\n",
              "      <td>2.0</td>\n",
              "      <td>1.0</td>\n",
              "      <td>2.0</td>\n",
              "      <td>1.0</td>\n",
              "    </tr>\n",
              "    <tr>\n",
              "      <th>1</th>\n",
              "      <td>1.0</td>\n",
              "      <td>9.0</td>\n",
              "      <td>4.0</td>\n",
              "      <td>0.0</td>\n",
              "      <td>2799.0</td>\n",
              "      <td>1.0</td>\n",
              "      <td>3.0</td>\n",
              "      <td>2.0</td>\n",
              "      <td>3.0</td>\n",
              "      <td>1.0</td>\n",
              "      <td>...</td>\n",
              "      <td>1.0</td>\n",
              "      <td>36.0</td>\n",
              "      <td>3.0</td>\n",
              "      <td>1.0</td>\n",
              "      <td>2.0</td>\n",
              "      <td>3.0</td>\n",
              "      <td>1.0</td>\n",
              "      <td>1.0</td>\n",
              "      <td>2.0</td>\n",
              "      <td>1.0</td>\n",
              "    </tr>\n",
              "    <tr>\n",
              "      <th>2</th>\n",
              "      <td>2.0</td>\n",
              "      <td>12.0</td>\n",
              "      <td>2.0</td>\n",
              "      <td>9.0</td>\n",
              "      <td>841.0</td>\n",
              "      <td>2.0</td>\n",
              "      <td>4.0</td>\n",
              "      <td>2.0</td>\n",
              "      <td>2.0</td>\n",
              "      <td>1.0</td>\n",
              "      <td>...</td>\n",
              "      <td>1.0</td>\n",
              "      <td>23.0</td>\n",
              "      <td>3.0</td>\n",
              "      <td>1.0</td>\n",
              "      <td>1.0</td>\n",
              "      <td>2.0</td>\n",
              "      <td>2.0</td>\n",
              "      <td>1.0</td>\n",
              "      <td>2.0</td>\n",
              "      <td>1.0</td>\n",
              "    </tr>\n",
              "    <tr>\n",
              "      <th>3</th>\n",
              "      <td>1.0</td>\n",
              "      <td>12.0</td>\n",
              "      <td>4.0</td>\n",
              "      <td>0.0</td>\n",
              "      <td>2122.0</td>\n",
              "      <td>1.0</td>\n",
              "      <td>3.0</td>\n",
              "      <td>3.0</td>\n",
              "      <td>3.0</td>\n",
              "      <td>1.0</td>\n",
              "      <td>...</td>\n",
              "      <td>1.0</td>\n",
              "      <td>39.0</td>\n",
              "      <td>3.0</td>\n",
              "      <td>1.0</td>\n",
              "      <td>2.0</td>\n",
              "      <td>2.0</td>\n",
              "      <td>1.0</td>\n",
              "      <td>1.0</td>\n",
              "      <td>1.0</td>\n",
              "      <td>1.0</td>\n",
              "    </tr>\n",
              "    <tr>\n",
              "      <th>4</th>\n",
              "      <td>1.0</td>\n",
              "      <td>12.0</td>\n",
              "      <td>4.0</td>\n",
              "      <td>0.0</td>\n",
              "      <td>2171.0</td>\n",
              "      <td>1.0</td>\n",
              "      <td>3.0</td>\n",
              "      <td>4.0</td>\n",
              "      <td>3.0</td>\n",
              "      <td>1.0</td>\n",
              "      <td>...</td>\n",
              "      <td>2.0</td>\n",
              "      <td>38.0</td>\n",
              "      <td>1.0</td>\n",
              "      <td>2.0</td>\n",
              "      <td>2.0</td>\n",
              "      <td>2.0</td>\n",
              "      <td>2.0</td>\n",
              "      <td>1.0</td>\n",
              "      <td>1.0</td>\n",
              "      <td>1.0</td>\n",
              "    </tr>\n",
              "  </tbody>\n",
              "</table>\n",
              "<p>5 rows × 21 columns</p>\n",
              "</div>\n",
              "      <button class=\"colab-df-convert\" onclick=\"convertToInteractive('df-85fdf333-4aa2-4c2e-88a1-d767ddcb2223')\"\n",
              "              title=\"Convert this dataframe to an interactive table.\"\n",
              "              style=\"display:none;\">\n",
              "        \n",
              "  <svg xmlns=\"http://www.w3.org/2000/svg\" height=\"24px\"viewBox=\"0 0 24 24\"\n",
              "       width=\"24px\">\n",
              "    <path d=\"M0 0h24v24H0V0z\" fill=\"none\"/>\n",
              "    <path d=\"M18.56 5.44l.94 2.06.94-2.06 2.06-.94-2.06-.94-.94-2.06-.94 2.06-2.06.94zm-11 1L8.5 8.5l.94-2.06 2.06-.94-2.06-.94L8.5 2.5l-.94 2.06-2.06.94zm10 10l.94 2.06.94-2.06 2.06-.94-2.06-.94-.94-2.06-.94 2.06-2.06.94z\"/><path d=\"M17.41 7.96l-1.37-1.37c-.4-.4-.92-.59-1.43-.59-.52 0-1.04.2-1.43.59L10.3 9.45l-7.72 7.72c-.78.78-.78 2.05 0 2.83L4 21.41c.39.39.9.59 1.41.59.51 0 1.02-.2 1.41-.59l7.78-7.78 2.81-2.81c.8-.78.8-2.07 0-2.86zM5.41 20L4 18.59l7.72-7.72 1.47 1.35L5.41 20z\"/>\n",
              "  </svg>\n",
              "      </button>\n",
              "      \n",
              "  <style>\n",
              "    .colab-df-container {\n",
              "      display:flex;\n",
              "      flex-wrap:wrap;\n",
              "      gap: 12px;\n",
              "    }\n",
              "\n",
              "    .colab-df-convert {\n",
              "      background-color: #E8F0FE;\n",
              "      border: none;\n",
              "      border-radius: 50%;\n",
              "      cursor: pointer;\n",
              "      display: none;\n",
              "      fill: #1967D2;\n",
              "      height: 32px;\n",
              "      padding: 0 0 0 0;\n",
              "      width: 32px;\n",
              "    }\n",
              "\n",
              "    .colab-df-convert:hover {\n",
              "      background-color: #E2EBFA;\n",
              "      box-shadow: 0px 1px 2px rgba(60, 64, 67, 0.3), 0px 1px 3px 1px rgba(60, 64, 67, 0.15);\n",
              "      fill: #174EA6;\n",
              "    }\n",
              "\n",
              "    [theme=dark] .colab-df-convert {\n",
              "      background-color: #3B4455;\n",
              "      fill: #D2E3FC;\n",
              "    }\n",
              "\n",
              "    [theme=dark] .colab-df-convert:hover {\n",
              "      background-color: #434B5C;\n",
              "      box-shadow: 0px 1px 3px 1px rgba(0, 0, 0, 0.15);\n",
              "      filter: drop-shadow(0px 1px 2px rgba(0, 0, 0, 0.3));\n",
              "      fill: #FFFFFF;\n",
              "    }\n",
              "  </style>\n",
              "\n",
              "      <script>\n",
              "        const buttonEl =\n",
              "          document.querySelector('#df-85fdf333-4aa2-4c2e-88a1-d767ddcb2223 button.colab-df-convert');\n",
              "        buttonEl.style.display =\n",
              "          google.colab.kernel.accessAllowed ? 'block' : 'none';\n",
              "\n",
              "        async function convertToInteractive(key) {\n",
              "          const element = document.querySelector('#df-85fdf333-4aa2-4c2e-88a1-d767ddcb2223');\n",
              "          const dataTable =\n",
              "            await google.colab.kernel.invokeFunction('convertToInteractive',\n",
              "                                                     [key], {});\n",
              "          if (!dataTable) return;\n",
              "\n",
              "          const docLinkHtml = 'Like what you see? Visit the ' +\n",
              "            '<a target=\"_blank\" href=https://colab.research.google.com/notebooks/data_table.ipynb>data table notebook</a>'\n",
              "            + ' to learn more about interactive tables.';\n",
              "          element.innerHTML = '';\n",
              "          dataTable['output_type'] = 'display_data';\n",
              "          await google.colab.output.renderOutput(dataTable, element);\n",
              "          const docLink = document.createElement('div');\n",
              "          docLink.innerHTML = docLinkHtml;\n",
              "          element.appendChild(docLink);\n",
              "        }\n",
              "      </script>\n",
              "    </div>\n",
              "  </div>\n",
              "  "
            ]
          },
          "metadata": {},
          "execution_count": 3
        }
      ]
    },
    {
      "cell_type": "code",
      "source": [
        "df[\"credit_risk\"].value_counts()  # imbalance data set, this will effect the accuracy and hence need to be handled."
      ],
      "metadata": {
        "colab": {
          "base_uri": "https://localhost:8080/"
        },
        "id": "MHdr-h_PbTMU",
        "outputId": "9b41ac94-ce79-4fa5-b3b8-f1155ca87b34"
      },
      "execution_count": null,
      "outputs": [
        {
          "output_type": "execute_result",
          "data": {
            "text/plain": [
              "1.0    700\n",
              "0.0    300\n",
              "Name: credit_risk, dtype: int64"
            ]
          },
          "metadata": {},
          "execution_count": 4
        }
      ]
    },
    {
      "cell_type": "code",
      "source": [
        "df.info()"
      ],
      "metadata": {
        "colab": {
          "base_uri": "https://localhost:8080/"
        },
        "id": "yATNznt7FzZ3",
        "outputId": "d6d824ab-9382-4859-b455-0d4a332af15d"
      },
      "execution_count": null,
      "outputs": [
        {
          "output_type": "stream",
          "name": "stdout",
          "text": [
            "<class 'pandas.core.frame.DataFrame'>\n",
            "RangeIndex: 1000 entries, 0 to 999\n",
            "Data columns (total 21 columns):\n",
            " #   Column                   Non-Null Count  Dtype  \n",
            "---  ------                   --------------  -----  \n",
            " 0   status                   1000 non-null   float64\n",
            " 1   duration                 1000 non-null   float64\n",
            " 2   credit_history           1000 non-null   float64\n",
            " 3   purpose                  1000 non-null   float64\n",
            " 4   amount                   1000 non-null   float64\n",
            " 5   savings                  1000 non-null   float64\n",
            " 6   employment_duration      1000 non-null   float64\n",
            " 7   installment_rate         1000 non-null   float64\n",
            " 8   personal_status_sex      1000 non-null   float64\n",
            " 9   other_debtors            1000 non-null   float64\n",
            " 10  present_residence        1000 non-null   float64\n",
            " 11  property                 1000 non-null   float64\n",
            " 12  age                      1000 non-null   float64\n",
            " 13  other_installment_plans  1000 non-null   float64\n",
            " 14  housing                  1000 non-null   float64\n",
            " 15  number_credits           1000 non-null   float64\n",
            " 16  job                      1000 non-null   float64\n",
            " 17  people_liable            1000 non-null   float64\n",
            " 18  telephone                1000 non-null   float64\n",
            " 19  foreign_worker           1000 non-null   float64\n",
            " 20  credit_risk              1000 non-null   float64\n",
            "dtypes: float64(21)\n",
            "memory usage: 164.2 KB\n"
          ]
        }
      ]
    },
    {
      "cell_type": "code",
      "source": [
        "df.isnull().sum()   # no null values"
      ],
      "metadata": {
        "colab": {
          "base_uri": "https://localhost:8080/"
        },
        "id": "MbRYOdhLGEam",
        "outputId": "398d9faa-21f5-4d9d-f89a-33010805ab88"
      },
      "execution_count": null,
      "outputs": [
        {
          "output_type": "execute_result",
          "data": {
            "text/plain": [
              "status                     0\n",
              "duration                   0\n",
              "credit_history             0\n",
              "purpose                    0\n",
              "amount                     0\n",
              "savings                    0\n",
              "employment_duration        0\n",
              "installment_rate           0\n",
              "personal_status_sex        0\n",
              "other_debtors              0\n",
              "present_residence          0\n",
              "property                   0\n",
              "age                        0\n",
              "other_installment_plans    0\n",
              "housing                    0\n",
              "number_credits             0\n",
              "job                        0\n",
              "people_liable              0\n",
              "telephone                  0\n",
              "foreign_worker             0\n",
              "credit_risk                0\n",
              "dtype: int64"
            ]
          },
          "metadata": {},
          "execution_count": 6
        }
      ]
    },
    {
      "cell_type": "markdown",
      "source": [
        "**Feature Selection & Train Test split**"
      ],
      "metadata": {
        "id": "SIqQ09bZX7vs"
      }
    },
    {
      "cell_type": "code",
      "source": [
        "X= df.iloc[:,0:20]\n",
        "Y = df[\"credit_risk\"]"
      ],
      "metadata": {
        "id": "02YkEpXqGPXV"
      },
      "execution_count": null,
      "outputs": []
    },
    {
      "cell_type": "code",
      "source": [
        "sc= StandardScaler()\n",
        "X = sc.fit_transform(X)"
      ],
      "metadata": {
        "id": "t3Oc1Z_uGfhi"
      },
      "execution_count": null,
      "outputs": []
    },
    {
      "cell_type": "code",
      "source": [
        "X_train,X_test,Y_train, Y_test = train_test_split(X,Y,train_size=0.75,random_state=42)"
      ],
      "metadata": {
        "id": "cRR0L9zmGgsd"
      },
      "execution_count": null,
      "outputs": []
    },
    {
      "cell_type": "code",
      "source": [
        "# handling imbalance dataset using SMOTE\n",
        "from imblearn.over_sampling import SMOTE \n",
        "smot = SMOTE(sampling_strategy='minority',random_state=42)\n",
        "x_train,y_train = smot.fit_resample(X_train,Y_train)"
      ],
      "metadata": {
        "id": "1QVkBUimdMgb"
      },
      "execution_count": null,
      "outputs": []
    },
    {
      "cell_type": "code",
      "source": [
        "from collections import Counter\n",
        "Counter(y_train)"
      ],
      "metadata": {
        "colab": {
          "base_uri": "https://localhost:8080/"
        },
        "id": "EC5nzn1ReHpu",
        "outputId": "c0c36bdc-4ae5-49bb-ee74-8005a6d8ccca"
      },
      "execution_count": null,
      "outputs": [
        {
          "output_type": "execute_result",
          "data": {
            "text/plain": [
              "Counter({1.0: 525, 0.0: 525})"
            ]
          },
          "metadata": {},
          "execution_count": 11
        }
      ]
    },
    {
      "cell_type": "markdown",
      "source": [
        "**Model building**"
      ],
      "metadata": {
        "id": "-9_IhT0JXibv"
      }
    },
    {
      "cell_type": "code",
      "source": [
        "model = Sequential()\n",
        "model.add(Dense(units = 15,input_dim = 20,activation =\"relu\"))\n",
        "model.add(Dense(units=5, activation='relu'))\n",
        "model.add(Dropout(0.1))\n",
        "model.add(Dense(units=4, activation='relu'))\n",
        "model.add(Dense(1, activation ='sigmoid'))\n"
      ],
      "metadata": {
        "id": "qYIJJdnV12-S"
      },
      "execution_count": null,
      "outputs": []
    },
    {
      "cell_type": "code",
      "source": [
        "model.compile(optimizer=tf.keras.optimizers.Adam(learning_rate = 0.015,\n",
        "    beta_1=0.6, beta_2=0.999, epsilon=1e-07, amsgrad=False,\n",
        "    name='Adam',), loss='binary_crossentropy',metrics=\"accuracy\")"
      ],
      "metadata": {
        "id": "_XLOuf212HA5"
      },
      "execution_count": null,
      "outputs": []
    },
    {
      "cell_type": "code",
      "source": [
        "callback = keras.callbacks.EarlyStopping(monitor='val_loss',\n",
        "                                            patience=15,\n",
        "                                            restore_best_weights=True)"
      ],
      "metadata": {
        "id": "LXL9eKbLOXgZ"
      },
      "execution_count": null,
      "outputs": []
    },
    {
      "cell_type": "code",
      "source": [
        "hist = model.fit(x_train,y_train,batch_size=10,validation_data=(X_test,Y_test), epochs=150,verbose=1,callbacks = callback)"
      ],
      "metadata": {
        "colab": {
          "base_uri": "https://localhost:8080/"
        },
        "id": "kgPu_Hpj2M63",
        "outputId": "ef087201-4fe7-48fc-fd6e-7b514209f399"
      },
      "execution_count": null,
      "outputs": [
        {
          "output_type": "stream",
          "name": "stdout",
          "text": [
            "Epoch 1/150\n",
            "105/105 [==============================] - 1s 4ms/step - loss: 0.6449 - accuracy: 0.6533 - val_loss: 0.5639 - val_accuracy: 0.7760\n",
            "Epoch 2/150\n",
            "105/105 [==============================] - 0s 2ms/step - loss: 0.5781 - accuracy: 0.7267 - val_loss: 0.5492 - val_accuracy: 0.7720\n",
            "Epoch 3/150\n",
            "105/105 [==============================] - 0s 2ms/step - loss: 0.5459 - accuracy: 0.7476 - val_loss: 0.5971 - val_accuracy: 0.7440\n",
            "Epoch 4/150\n",
            "105/105 [==============================] - 0s 3ms/step - loss: 0.5281 - accuracy: 0.7514 - val_loss: 0.5178 - val_accuracy: 0.7760\n",
            "Epoch 5/150\n",
            "105/105 [==============================] - 0s 2ms/step - loss: 0.5115 - accuracy: 0.7667 - val_loss: 0.5578 - val_accuracy: 0.7360\n",
            "Epoch 6/150\n",
            "105/105 [==============================] - 0s 3ms/step - loss: 0.4907 - accuracy: 0.7867 - val_loss: 0.5533 - val_accuracy: 0.7280\n",
            "Epoch 7/150\n",
            "105/105 [==============================] - 0s 2ms/step - loss: 0.4718 - accuracy: 0.7857 - val_loss: 0.5301 - val_accuracy: 0.7560\n",
            "Epoch 8/150\n",
            "105/105 [==============================] - 0s 3ms/step - loss: 0.4632 - accuracy: 0.8086 - val_loss: 0.6156 - val_accuracy: 0.7360\n",
            "Epoch 9/150\n",
            "105/105 [==============================] - 0s 3ms/step - loss: 0.4668 - accuracy: 0.7857 - val_loss: 0.5790 - val_accuracy: 0.7560\n",
            "Epoch 10/150\n",
            "105/105 [==============================] - 0s 3ms/step - loss: 0.4434 - accuracy: 0.8057 - val_loss: 0.5615 - val_accuracy: 0.7600\n",
            "Epoch 11/150\n",
            "105/105 [==============================] - 0s 3ms/step - loss: 0.4202 - accuracy: 0.8276 - val_loss: 0.5667 - val_accuracy: 0.7520\n",
            "Epoch 12/150\n",
            "105/105 [==============================] - 0s 3ms/step - loss: 0.4243 - accuracy: 0.8248 - val_loss: 0.5529 - val_accuracy: 0.7520\n",
            "Epoch 13/150\n",
            "105/105 [==============================] - 0s 3ms/step - loss: 0.4220 - accuracy: 0.8238 - val_loss: 0.5559 - val_accuracy: 0.7400\n",
            "Epoch 14/150\n",
            "105/105 [==============================] - 0s 4ms/step - loss: 0.4212 - accuracy: 0.8257 - val_loss: 0.5455 - val_accuracy: 0.7680\n",
            "Epoch 15/150\n",
            "105/105 [==============================] - 0s 4ms/step - loss: 0.4082 - accuracy: 0.8324 - val_loss: 0.5245 - val_accuracy: 0.7560\n",
            "Epoch 16/150\n",
            "105/105 [==============================] - 1s 5ms/step - loss: 0.4142 - accuracy: 0.8362 - val_loss: 0.6007 - val_accuracy: 0.7080\n",
            "Epoch 17/150\n",
            "105/105 [==============================] - 0s 5ms/step - loss: 0.3878 - accuracy: 0.8448 - val_loss: 0.5997 - val_accuracy: 0.7480\n",
            "Epoch 18/150\n",
            "105/105 [==============================] - 1s 5ms/step - loss: 0.3753 - accuracy: 0.8457 - val_loss: 0.6477 - val_accuracy: 0.7400\n",
            "Epoch 19/150\n",
            "105/105 [==============================] - 1s 5ms/step - loss: 0.3664 - accuracy: 0.8581 - val_loss: 0.6069 - val_accuracy: 0.7440\n"
          ]
        }
      ]
    },
    {
      "cell_type": "code",
      "source": [
        "loss, acc = model.evaluate(X_test,Y_test)"
      ],
      "metadata": {
        "colab": {
          "base_uri": "https://localhost:8080/"
        },
        "id": "r8VnZAjG2Y4X",
        "outputId": "bd22398a-7c8a-46e7-ff1c-020ab57e7577"
      },
      "execution_count": null,
      "outputs": [
        {
          "output_type": "stream",
          "name": "stdout",
          "text": [
            "8/8 [==============================] - 0s 3ms/step - loss: 0.5178 - accuracy: 0.7760\n"
          ]
        }
      ]
    },
    {
      "cell_type": "code",
      "source": [
        "print(\"Accuracy is : \", np.round((acc*100),2))"
      ],
      "metadata": {
        "colab": {
          "base_uri": "https://localhost:8080/"
        },
        "id": "E_zWTRXZWb4m",
        "outputId": "a9490358-fd1b-4706-cc65-6d99dd8d3232"
      },
      "execution_count": null,
      "outputs": [
        {
          "output_type": "stream",
          "name": "stdout",
          "text": [
            "Accuracy is :  77.6\n"
          ]
        }
      ]
    },
    {
      "cell_type": "markdown",
      "source": [
        "**Model using MLPClassifier**"
      ],
      "metadata": {
        "id": "m3pltR1EWgl7"
      }
    },
    {
      "cell_type": "code",
      "source": [
        "model = MLPClassifier(alpha = 0.3, batch_size=10,hidden_layer_sizes=(8,),learning_rate ='adaptive',max_iter = 50,activation ='relu')"
      ],
      "metadata": {
        "id": "KVQo6_OPUArY"
      },
      "execution_count": null,
      "outputs": []
    },
    {
      "cell_type": "code",
      "source": [
        "model.fit(x_train,y_train)"
      ],
      "metadata": {
        "colab": {
          "base_uri": "https://localhost:8080/"
        },
        "id": "2TqH9AzFUxlA",
        "outputId": "174e8ed2-db8b-481b-e5dc-bb618ca218c2"
      },
      "execution_count": null,
      "outputs": [
        {
          "output_type": "stream",
          "name": "stderr",
          "text": [
            "/usr/local/lib/python3.7/dist-packages/sklearn/neural_network/_multilayer_perceptron.py:696: ConvergenceWarning: Stochastic Optimizer: Maximum iterations (50) reached and the optimization hasn't converged yet.\n",
            "  ConvergenceWarning,\n"
          ]
        },
        {
          "output_type": "execute_result",
          "data": {
            "text/plain": [
              "MLPClassifier(alpha=0.3, batch_size=10, hidden_layer_sizes=(8,),\n",
              "              learning_rate='adaptive', max_iter=50)"
            ]
          },
          "metadata": {},
          "execution_count": 19
        }
      ]
    },
    {
      "cell_type": "code",
      "source": [
        "pred = model.predict(X_test)"
      ],
      "metadata": {
        "id": "-IixdIqSU6hB"
      },
      "execution_count": null,
      "outputs": []
    },
    {
      "cell_type": "code",
      "source": [
        "print(\"Accuracy using MLPClassifier is :  \",accuracy_score(Y_test,pred)*100)"
      ],
      "metadata": {
        "colab": {
          "base_uri": "https://localhost:8080/"
        },
        "id": "5UiDpw90U_FV",
        "outputId": "1e6c3a2f-0000-4819-abcb-1c0d5c5fa112"
      },
      "execution_count": null,
      "outputs": [
        {
          "output_type": "stream",
          "name": "stdout",
          "text": [
            "Accuracy using MLPClassifier is :   76.4\n"
          ]
        }
      ]
    },
    {
      "cell_type": "code",
      "source": [
        "confusion_matrix(Y_test,pred)"
      ],
      "metadata": {
        "colab": {
          "base_uri": "https://localhost:8080/"
        },
        "id": "7MEZHcrQTuT5",
        "outputId": "746b90ea-98e7-4807-d156-361f1413aba9"
      },
      "execution_count": null,
      "outputs": [
        {
          "output_type": "execute_result",
          "data": {
            "text/plain": [
              "array([[ 56,  19],\n",
              "       [ 40, 135]])"
            ]
          },
          "metadata": {},
          "execution_count": 22
        }
      ]
    },
    {
      "cell_type": "code",
      "source": [
        "classification_report(Y_test,pred)"
      ],
      "metadata": {
        "colab": {
          "base_uri": "https://localhost:8080/",
          "height": 72
        },
        "id": "wNenJwutWqqB",
        "outputId": "2f38ea5d-c105-4d1c-edc8-538df4fa4811"
      },
      "execution_count": null,
      "outputs": [
        {
          "output_type": "execute_result",
          "data": {
            "text/plain": [
              "'              precision    recall  f1-score   support\\n\\n         0.0       0.58      0.75      0.65        75\\n         1.0       0.88      0.77      0.82       175\\n\\n    accuracy                           0.76       250\\n   macro avg       0.73      0.76      0.74       250\\nweighted avg       0.79      0.76      0.77       250\\n'"
            ],
            "application/vnd.google.colaboratory.intrinsic+json": {
              "type": "string"
            }
          },
          "metadata": {},
          "execution_count": 23
        }
      ]
    },
    {
      "cell_type": "code",
      "source": [
        "precision_score(Y_test,pred)"
      ],
      "metadata": {
        "colab": {
          "base_uri": "https://localhost:8080/"
        },
        "id": "I88IvgCMfFbO",
        "outputId": "ddfade3f-9ad3-435c-e9bc-befab19adf9f"
      },
      "execution_count": null,
      "outputs": [
        {
          "output_type": "execute_result",
          "data": {
            "text/plain": [
              "0.8766233766233766"
            ]
          },
          "metadata": {},
          "execution_count": 24
        }
      ]
    },
    {
      "cell_type": "code",
      "source": [
        "recall_score(Y_test,pred)"
      ],
      "metadata": {
        "colab": {
          "base_uri": "https://localhost:8080/"
        },
        "id": "Nmw3TVW8fHt3",
        "outputId": "db31bf56-c018-43ff-f39e-dd637822edd6"
      },
      "execution_count": null,
      "outputs": [
        {
          "output_type": "execute_result",
          "data": {
            "text/plain": [
              "0.7714285714285715"
            ]
          },
          "metadata": {},
          "execution_count": 25
        }
      ]
    }
  ]
}